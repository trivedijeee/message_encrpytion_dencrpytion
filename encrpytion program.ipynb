{
 "cells": [
  {
   "cell_type": "code",
   "execution_count": 6,
   "id": "e9e1da78",
   "metadata": {},
   "outputs": [
    {
     "name": "stdout",
     "output_type": "stream",
     "text": [
      "please enter the message: my name is\n",
      "now enter the step in integeral values: 2\n",
      "\n",
      "the encrypted message is:  oa pcog ku\n",
      "\n",
      "the original or dencrpyted message is:  my name is\n"
     ]
    }
   ],
   "source": [
    "#function for encryption algorithm\n",
    "def encrypt_message(text, step):\n",
    "    encrypted_string = \"\" #empty string intially\n",
    "    \n",
    "    for char in text:\n",
    "        if not char.isalpha(): #cheak for sapace number or special character\n",
    "            encrypted_string += char\n",
    "        elif char.isupper(): #test for uppercase\n",
    "            encrypted_string += chr((((ord(char) + step) -65) % 26) + 65)\n",
    "        else: #formula for lowercase\n",
    "            encrypted_string += chr((((ord(char) + step) -97) % 26) + 97)\n",
    "            \n",
    "    return encrypted_string\n",
    "\n",
    "def decrypt_message(text, step):\n",
    "    decrypted_str = \"\" #empty string intially\n",
    "    \n",
    "    for char in text:\n",
    "        if not char.isalpha():\n",
    "            decrypted_str += char\n",
    "        elif char.isupper():\n",
    "            decrypted_str += chr((((ord(char) - step) -65) % 26) + 65) #only the step\n",
    "        else:\n",
    "            decrypted_str += chr((((ord(char) - step) -97) % 26) + 97) #only the step\n",
    "            \n",
    "    return decrypted_str\n",
    "\n",
    "#interacctive  program\n",
    "\n",
    "message = input(\"please enter the message: \")\n",
    "step = int(input(\"now enter the step in integeral values: \")) #it shuld be integer\n",
    "\n",
    "print()\n",
    "#call the encrypt function\n",
    "encrpyted_message = encrypt_message(message, step)\n",
    "print(\"the encrypted message is: \", encrpyted_message)\n",
    "\n",
    "print()\n",
    "#call the dencrypt function\n",
    "dencrpyted_message = decrypt_message(encrpyted_message, step)\n",
    "print(\"the original or dencrpyted message is: \", dencrpyted_message)\n"
   ]
  },
  {
   "cell_type": "code",
   "execution_count": null,
   "id": "677765d8",
   "metadata": {},
   "outputs": [],
   "source": []
  }
 ],
 "metadata": {
  "kernelspec": {
   "display_name": "Python 3 (ipykernel)",
   "language": "python",
   "name": "python3"
  },
  "language_info": {
   "codemirror_mode": {
    "name": "ipython",
    "version": 3
   },
   "file_extension": ".py",
   "mimetype": "text/x-python",
   "name": "python",
   "nbconvert_exporter": "python",
   "pygments_lexer": "ipython3",
   "version": "3.9.7"
  }
 },
 "nbformat": 4,
 "nbformat_minor": 5
}
